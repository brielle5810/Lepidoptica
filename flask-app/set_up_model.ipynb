{
 "cells": [
  {
   "metadata": {},
   "cell_type": "markdown",
   "source": "## Updating the OCR Model with Fine Tune Model",
   "id": "f2e16433bd8a7d96"
  },
  {
   "metadata": {
    "ExecuteTime": {
     "end_time": "2025-04-09T11:26:05.845316Z",
     "start_time": "2025-04-09T11:26:05.842274Z"
    }
   },
   "cell_type": "code",
   "source": [
    "import os\n",
    "import shutil\n",
    "from os import listdir"
   ],
   "id": "3adbdd230c1279cb",
   "outputs": [],
   "execution_count": 23
  },
  {
   "metadata": {
    "collapsed": true,
    "ExecuteTime": {
     "end_time": "2025-04-09T11:26:05.865439Z",
     "start_time": "2025-04-09T11:26:05.862449Z"
    }
   },
   "cell_type": "code",
   "source": [
    "#path where .EasyOCR exists on your machine\n",
    "model_path = os.path.expanduser(\"~/.EasyOCR/model\") #Default: \"~/.EasyOCR/model\"\n",
    "user_network_path = os.path.expanduser(\"~/.EasyOCR/user_network\") #Default: \"~/.EasyOCR/user_network\""
   ],
   "id": "initial_id",
   "outputs": [],
   "execution_count": 24
  },
  {
   "metadata": {},
   "cell_type": "markdown",
   "source": [
    "Your three model files should be the same name as the name of later your 'recognition network'. AKA Notice all the places where the name is 'custom_example'.\n",
    "\n",
    "**Into user_network_path:**\n",
    "<br>*custom_example*.py\n",
    "<br>*custom_example*.yaml\n",
    "<br>**Into model_path:**\n",
    "<br>*custom_example*.pth\n",
    "\n",
    "Then when initializing the reader:\n",
    "easyocr.Reader(['en'], recog_network='*custom_example*')"
   ],
   "id": "238d74aa176e7d69"
  },
  {
   "metadata": {
    "ExecuteTime": {
     "end_time": "2025-04-09T11:26:05.876106Z",
     "start_time": "2025-04-09T11:26:05.873344Z"
    }
   },
   "cell_type": "code",
   "source": [
    "#name of the model (see notes above)\n",
    "name = \"fine_tuning1\""
   ],
   "id": "a079ffeb2e6efe3d",
   "outputs": [],
   "execution_count": 25
  },
  {
   "metadata": {
    "ExecuteTime": {
     "end_time": "2025-04-09T11:26:05.889216Z",
     "start_time": "2025-04-09T11:26:05.885259Z"
    }
   },
   "cell_type": "code",
   "source": [
    "#check if it exists\n",
    "os.makedirs(model_path, exist_ok=True)\n",
    "os.makedirs(user_network_path, exist_ok=True)"
   ],
   "id": "bce8bc3d2b333ce2",
   "outputs": [],
   "execution_count": 26
  },
  {
   "metadata": {
    "ExecuteTime": {
     "end_time": "2025-04-09T11:26:05.903444Z",
     "start_time": "2025-04-09T11:26:05.899310Z"
    }
   },
   "cell_type": "code",
   "source": [
    "current_directory = os.getcwd()\n",
    "print(current_directory)"
   ],
   "id": "8ece46bf086b8ca6",
   "outputs": [
    {
     "name": "stdout",
     "output_type": "stream",
     "text": [
      "C:\\Users\\alexi\\OneDrive\\Documents\\CS_Projects\\2025-TJS-Senior-Project\\flask-app\n"
     ]
    }
   ],
   "execution_count": 27
  },
  {
   "metadata": {
    "ExecuteTime": {
     "end_time": "2025-04-09T11:26:05.936184Z",
     "start_time": "2025-04-09T11:26:05.933144Z"
    }
   },
   "cell_type": "code",
   "source": [
    "#Files need to be dropped off in models (within flask-app)\n",
    "# model_source_file = \"models/\" + name + \".pth\"\n",
    "model_source_file = os.path.join(\"models/\", name + \".pth\")\n",
    "py_source_file = os.path.join(\"models/\", name + \".py\")\n",
    "yaml_source_file = os.path.join(\"models/\", name + \".yaml\")"
   ],
   "id": "dd74e78f7df4dc0a",
   "outputs": [],
   "execution_count": 28
  },
  {
   "metadata": {
    "ExecuteTime": {
     "end_time": "2025-04-09T11:26:05.968303Z",
     "start_time": "2025-04-09T11:26:05.950622Z"
    }
   },
   "cell_type": "code",
   "source": [
    "# os.system(f\"cp {model_source_file} {model_path}\")\n",
    "try:\n",
    "    shutil.copy2(model_source_file, model_path)\n",
    "    print(f\"File {model_source_file} copied successfully to {model_path}\")\n",
    "    shutil.copy2(py_source_file, user_network_path)\n",
    "    print(f\"File {py_source_file} copied successfully to {user_network_path}\")\n",
    "    shutil.copy2(yaml_source_file, user_network_path)\n",
    "    print(f\"File {yaml_source_file} copied successfully to {user_network_path}\")\n",
    "except Exception as e:\n",
    "    print(f\"An error occurred during file copy: {e}\")"
   ],
   "id": "939e4c0a0d50ac62",
   "outputs": [
    {
     "name": "stdout",
     "output_type": "stream",
     "text": [
      "File models/fine_tuning1.pth copied successfully to C:\\Users\\alexi/.EasyOCR/model\n",
      "File models/fine_tuning1.py copied successfully to C:\\Users\\alexi/.EasyOCR/user_network\n",
      "File models/fine_tuning1.yaml copied successfully to C:\\Users\\alexi/.EasyOCR/user_network\n"
     ]
    }
   ],
   "execution_count": 29
  },
  {
   "metadata": {},
   "cell_type": "markdown",
   "source": "Double check that everything is where it should be.",
   "id": "4540f1fafa15bf00"
  },
  {
   "metadata": {
    "ExecuteTime": {
     "end_time": "2025-04-09T11:26:05.986431Z",
     "start_time": "2025-04-09T11:26:05.981985Z"
    }
   },
   "cell_type": "code",
   "source": [
    "model_dest_path = os.path.join(model_path, name + \".pth\")\n",
    "py_dest_path = os.path.join(user_network_path, name + \".py\")\n",
    "yaml_dest_path = os.path.join(user_network_path, name + \".yaml\")"
   ],
   "id": "d9b5359b88152d78",
   "outputs": [],
   "execution_count": 30
  },
  {
   "metadata": {
    "ExecuteTime": {
     "end_time": "2025-04-09T11:26:06.000152Z",
     "start_time": "2025-04-09T11:26:05.995670Z"
    }
   },
   "cell_type": "code",
   "source": [
    "if os.path.exists(model_path) and os.path.getsize(model_source_file) == os.path.getsize(model_dest_path):\n",
    "    print(\"File copy verified successfully.\")\n",
    "else:\n",
    "    print(\"File copy verification failed.\")"
   ],
   "id": "46b927884e6c5728",
   "outputs": [
    {
     "name": "stdout",
     "output_type": "stream",
     "text": [
      "File copy verified successfully.\n"
     ]
    }
   ],
   "execution_count": 31
  },
  {
   "metadata": {
    "ExecuteTime": {
     "end_time": "2025-04-09T11:26:06.022426Z",
     "start_time": "2025-04-09T11:26:06.017791Z"
    }
   },
   "cell_type": "code",
   "source": [
    "if os.path.exists(user_network_path) and os.path.getsize(py_source_file) == os.path.getsize(py_dest_path):\n",
    "    print(\"File copy verified successfully.\")\n",
    "else:\n",
    "    print(\"File copy verification failed.\")"
   ],
   "id": "84908c6ad3d0da7c",
   "outputs": [
    {
     "name": "stdout",
     "output_type": "stream",
     "text": [
      "File copy verified successfully.\n"
     ]
    }
   ],
   "execution_count": 32
  },
  {
   "metadata": {
    "ExecuteTime": {
     "end_time": "2025-04-09T11:26:06.069721Z",
     "start_time": "2025-04-09T11:26:06.065185Z"
    }
   },
   "cell_type": "code",
   "source": [
    "if os.path.exists(user_network_path) and os.path.getsize(yaml_source_file) == os.path.getsize(yaml_dest_path):\n",
    "    print(\"File copy verified successfully.\")\n",
    "else:\n",
    "    print(\"File copy verification failed.\")"
   ],
   "id": "d0baf09c49fd3980",
   "outputs": [
    {
     "name": "stdout",
     "output_type": "stream",
     "text": [
      "File copy verified successfully.\n"
     ]
    }
   ],
   "execution_count": 33
  }
 ],
 "metadata": {
  "kernelspec": {
   "display_name": "Python 3",
   "language": "python",
   "name": "python3"
  },
  "language_info": {
   "codemirror_mode": {
    "name": "ipython",
    "version": 2
   },
   "file_extension": ".py",
   "mimetype": "text/x-python",
   "name": "python",
   "nbconvert_exporter": "python",
   "pygments_lexer": "ipython2",
   "version": "2.7.6"
  }
 },
 "nbformat": 4,
 "nbformat_minor": 5
}
