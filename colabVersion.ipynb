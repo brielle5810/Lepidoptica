{
  "nbformat": 4,
  "nbformat_minor": 0,
  "metadata": {
    "colab": {
      "provenance": [],
      "mount_file_id": "1dYl6xkWB9f9PhMPlwykVAteEn5mb0kH_",
      "authorship_tag": "ABX9TyPlDP7HLa97U/7kN50lsE5H",
      "include_colab_link": true
    },
    "kernelspec": {
      "name": "python3",
      "display_name": "Python 3"
    },
    "language_info": {
      "name": "python"
    }
  },
  "cells": [
    {
      "cell_type": "markdown",
      "metadata": {
        "id": "view-in-github",
        "colab_type": "text"
      },
      "source": [
        "<a href=\"https://colab.research.google.com/github/brielle5810/TJS_Project/blob/brielle-test/colabVersion.ipynb\" target=\"_parent\"><img src=\"https://colab.research.google.com/assets/colab-badge.svg\" alt=\"Open In Colab\"/></a>"
      ]
    },
    {
      "cell_type": "code",
      "execution_count": 13,
      "metadata": {
        "colab": {
          "base_uri": "https://localhost:8080/"
        },
        "id": "YM5R0EX60d_3",
        "outputId": "3d02d34c-7895-4e1f-a3da-a846c5a4e5b8"
      },
      "outputs": [
        {
          "output_type": "stream",
          "name": "stdout",
          "text": [
            "Requirement already satisfied: pytesseract in /usr/local/lib/python3.11/dist-packages (0.3.13)\n",
            "Requirement already satisfied: packaging>=21.3 in /usr/local/lib/python3.11/dist-packages (from pytesseract) (24.2)\n",
            "Requirement already satisfied: Pillow>=8.0.0 in /usr/local/lib/python3.11/dist-packages (from pytesseract) (11.1.0)\n",
            "Requirement already satisfied: keras-ocr in /usr/local/lib/python3.11/dist-packages (0.9.3)\n",
            "Requirement already satisfied: editdistance in /usr/local/lib/python3.11/dist-packages (from keras-ocr) (0.8.1)\n",
            "Requirement already satisfied: efficientnet==1.0.0 in /usr/local/lib/python3.11/dist-packages (from keras-ocr) (1.0.0)\n",
            "Requirement already satisfied: essential_generators in /usr/local/lib/python3.11/dist-packages (from keras-ocr) (1.0)\n",
            "Requirement already satisfied: fonttools in /usr/local/lib/python3.11/dist-packages (from keras-ocr) (4.55.8)\n",
            "Requirement already satisfied: imgaug in /usr/local/lib/python3.11/dist-packages (from keras-ocr) (0.4.0)\n",
            "Requirement already satisfied: pyclipper in /usr/local/lib/python3.11/dist-packages (from keras-ocr) (1.3.0.post6)\n",
            "Requirement already satisfied: shapely in /usr/local/lib/python3.11/dist-packages (from keras-ocr) (2.0.7)\n",
            "Requirement already satisfied: tqdm in /usr/local/lib/python3.11/dist-packages (from keras-ocr) (4.67.1)\n",
            "Requirement already satisfied: validators in /usr/local/lib/python3.11/dist-packages (from keras-ocr) (0.34.0)\n",
            "Requirement already satisfied: keras-applications<=1.0.8,>=1.0.7 in /usr/local/lib/python3.11/dist-packages (from efficientnet==1.0.0->keras-ocr) (1.0.8)\n",
            "Requirement already satisfied: scikit-image in /usr/local/lib/python3.11/dist-packages (from efficientnet==1.0.0->keras-ocr) (0.25.1)\n",
            "Requirement already satisfied: six in /usr/local/lib/python3.11/dist-packages (from imgaug->keras-ocr) (1.17.0)\n",
            "Requirement already satisfied: numpy>=1.15 in /usr/local/lib/python3.11/dist-packages (from imgaug->keras-ocr) (1.26.4)\n",
            "Requirement already satisfied: scipy in /usr/local/lib/python3.11/dist-packages (from imgaug->keras-ocr) (1.13.1)\n",
            "Requirement already satisfied: Pillow in /usr/local/lib/python3.11/dist-packages (from imgaug->keras-ocr) (11.1.0)\n",
            "Requirement already satisfied: matplotlib in /usr/local/lib/python3.11/dist-packages (from imgaug->keras-ocr) (3.10.0)\n",
            "Requirement already satisfied: opencv-python in /usr/local/lib/python3.11/dist-packages (from imgaug->keras-ocr) (4.11.0.86)\n",
            "Requirement already satisfied: imageio in /usr/local/lib/python3.11/dist-packages (from imgaug->keras-ocr) (2.37.0)\n",
            "Requirement already satisfied: h5py in /usr/local/lib/python3.11/dist-packages (from keras-applications<=1.0.8,>=1.0.7->efficientnet==1.0.0->keras-ocr) (3.12.1)\n",
            "Requirement already satisfied: networkx>=3.0 in /usr/local/lib/python3.11/dist-packages (from scikit-image->efficientnet==1.0.0->keras-ocr) (3.4.2)\n",
            "Requirement already satisfied: tifffile>=2022.8.12 in /usr/local/lib/python3.11/dist-packages (from scikit-image->efficientnet==1.0.0->keras-ocr) (2025.1.10)\n",
            "Requirement already satisfied: packaging>=21 in /usr/local/lib/python3.11/dist-packages (from scikit-image->efficientnet==1.0.0->keras-ocr) (24.2)\n",
            "Requirement already satisfied: lazy-loader>=0.4 in /usr/local/lib/python3.11/dist-packages (from scikit-image->efficientnet==1.0.0->keras-ocr) (0.4)\n",
            "Requirement already satisfied: contourpy>=1.0.1 in /usr/local/lib/python3.11/dist-packages (from matplotlib->imgaug->keras-ocr) (1.3.1)\n",
            "Requirement already satisfied: cycler>=0.10 in /usr/local/lib/python3.11/dist-packages (from matplotlib->imgaug->keras-ocr) (0.12.1)\n",
            "Requirement already satisfied: kiwisolver>=1.3.1 in /usr/local/lib/python3.11/dist-packages (from matplotlib->imgaug->keras-ocr) (1.4.8)\n",
            "Requirement already satisfied: pyparsing>=2.3.1 in /usr/local/lib/python3.11/dist-packages (from matplotlib->imgaug->keras-ocr) (3.2.1)\n",
            "Requirement already satisfied: python-dateutil>=2.7 in /usr/local/lib/python3.11/dist-packages (from matplotlib->imgaug->keras-ocr) (2.8.2)\n",
            "Requirement already satisfied: symspellpy in /usr/local/lib/python3.11/dist-packages (6.7.8)\n",
            "Requirement already satisfied: editdistpy>=0.1.3 in /usr/local/lib/python3.11/dist-packages (from symspellpy) (0.1.5)\n"
          ]
        }
      ],
      "source": [
        "import cv2\n",
        "import numpy as np\n",
        "!pip install pytesseract\n",
        "!pip install keras-ocr\n",
        "import pytesseract\n",
        "import os\n",
        "import PIL\n",
        "from PIL import Image, ImageEnhance\n",
        "from pip._internal.metadata import pkg_resources\n",
        "!pip install symspellpy\n",
        "from symspellpy import SymSpell, Verbosity\n",
        "\n",
        "#import keras_ocr\n",
        "#import tensorflow as tf\n",
        "\n",
        "#pytesseract.pytesseract.tesseract_cmd = r\"C:\\Program Files\\Tesseract-OCR\\tesseract.exe\"\n",
        "\n",
        "uncropped_path = 'uncropped/'\n",
        "cropped_path = 'cropped/'\n"
      ]
    },
    {
      "cell_type": "code",
      "source": [
        "!pip install tesseract"
      ],
      "metadata": {
        "colab": {
          "base_uri": "https://localhost:8080/"
        },
        "id": "bHcBIa9c-6sI",
        "outputId": "18ed4058-7bfd-4902-e949-3d0a4915527b"
      },
      "execution_count": 33,
      "outputs": [
        {
          "output_type": "stream",
          "name": "stdout",
          "text": [
            "Collecting tesseract\n",
            "  Downloading tesseract-0.1.3.tar.gz (45.6 MB)\n",
            "\u001b[2K     \u001b[90m━━━━━━━━━━━━━━━━━━━━━━━━━━━━━━━━━━━━━━━━\u001b[0m \u001b[32m45.6/45.6 MB\u001b[0m \u001b[31m15.4 MB/s\u001b[0m eta \u001b[36m0:00:00\u001b[0m\n",
            "\u001b[?25h  Preparing metadata (setup.py) ... \u001b[?25l\u001b[?25hdone\n",
            "Building wheels for collected packages: tesseract\n",
            "  Building wheel for tesseract (setup.py) ... \u001b[?25l\u001b[?25hdone\n",
            "  Created wheel for tesseract: filename=tesseract-0.1.3-py3-none-any.whl size=45562552 sha256=3d6c10ff9067242d0f11471908f3aaa8c1a85aede21fe79002359942e90caeb6\n",
            "  Stored in directory: /root/.cache/pip/wheels/b4/47/6e/bb7543eee5b12cf0bbeedd33b40886429a79aef0b03d76e051\n",
            "Successfully built tesseract\n",
            "Installing collected packages: tesseract\n",
            "Successfully installed tesseract-0.1.3\n"
          ]
        }
      ]
    },
    {
      "cell_type": "code",
      "source": [
        "! apt install tesseract-ocr\n",
        "! apt install libtesseract-dev"
      ],
      "metadata": {
        "colab": {
          "base_uri": "https://localhost:8080/"
        },
        "id": "SNWAMXh5-73L",
        "outputId": "6fbe4c4c-5624-407d-8a7b-6bac8c8bcf48"
      },
      "execution_count": 34,
      "outputs": [
        {
          "output_type": "stream",
          "name": "stdout",
          "text": [
            "Reading package lists... Done\n",
            "Building dependency tree... Done\n",
            "Reading state information... Done\n",
            "The following additional packages will be installed:\n",
            "  tesseract-ocr-eng tesseract-ocr-osd\n",
            "The following NEW packages will be installed:\n",
            "  tesseract-ocr tesseract-ocr-eng tesseract-ocr-osd\n",
            "0 upgraded, 3 newly installed, 0 to remove and 20 not upgraded.\n",
            "Need to get 4,816 kB of archives.\n",
            "After this operation, 15.6 MB of additional disk space will be used.\n",
            "Get:1 http://archive.ubuntu.com/ubuntu jammy/universe amd64 tesseract-ocr-eng all 1:4.00~git30-7274cfa-1.1 [1,591 kB]\n",
            "Get:2 http://archive.ubuntu.com/ubuntu jammy/universe amd64 tesseract-ocr-osd all 1:4.00~git30-7274cfa-1.1 [2,990 kB]\n",
            "Get:3 http://archive.ubuntu.com/ubuntu jammy/universe amd64 tesseract-ocr amd64 4.1.1-2.1build1 [236 kB]\n",
            "Fetched 4,816 kB in 1s (8,376 kB/s)\n",
            "Selecting previously unselected package tesseract-ocr-eng.\n",
            "(Reading database ... 124926 files and directories currently installed.)\n",
            "Preparing to unpack .../tesseract-ocr-eng_1%3a4.00~git30-7274cfa-1.1_all.deb ...\n",
            "Unpacking tesseract-ocr-eng (1:4.00~git30-7274cfa-1.1) ...\n",
            "Selecting previously unselected package tesseract-ocr-osd.\n",
            "Preparing to unpack .../tesseract-ocr-osd_1%3a4.00~git30-7274cfa-1.1_all.deb ...\n",
            "Unpacking tesseract-ocr-osd (1:4.00~git30-7274cfa-1.1) ...\n",
            "Selecting previously unselected package tesseract-ocr.\n",
            "Preparing to unpack .../tesseract-ocr_4.1.1-2.1build1_amd64.deb ...\n",
            "Unpacking tesseract-ocr (4.1.1-2.1build1) ...\n",
            "Setting up tesseract-ocr-eng (1:4.00~git30-7274cfa-1.1) ...\n",
            "Setting up tesseract-ocr-osd (1:4.00~git30-7274cfa-1.1) ...\n",
            "Setting up tesseract-ocr (4.1.1-2.1build1) ...\n",
            "Processing triggers for man-db (2.10.2-1) ...\n",
            "Reading package lists... Done\n",
            "Building dependency tree... Done\n",
            "Reading state information... Done\n",
            "The following additional packages will be installed:\n",
            "  libarchive-dev libleptonica-dev\n",
            "The following NEW packages will be installed:\n",
            "  libarchive-dev libleptonica-dev libtesseract-dev\n",
            "0 upgraded, 3 newly installed, 0 to remove and 20 not upgraded.\n",
            "Need to get 3,743 kB of archives.\n",
            "After this operation, 16.0 MB of additional disk space will be used.\n",
            "Get:1 http://archive.ubuntu.com/ubuntu jammy-updates/main amd64 libarchive-dev amd64 3.6.0-1ubuntu1.3 [581 kB]\n",
            "Get:2 http://archive.ubuntu.com/ubuntu jammy/universe amd64 libleptonica-dev amd64 1.82.0-3build1 [1,562 kB]\n",
            "Get:3 http://archive.ubuntu.com/ubuntu jammy/universe amd64 libtesseract-dev amd64 4.1.1-2.1build1 [1,600 kB]\n",
            "Fetched 3,743 kB in 0s (12.4 MB/s)\n",
            "Selecting previously unselected package libarchive-dev:amd64.\n",
            "(Reading database ... 124973 files and directories currently installed.)\n",
            "Preparing to unpack .../libarchive-dev_3.6.0-1ubuntu1.3_amd64.deb ...\n",
            "Unpacking libarchive-dev:amd64 (3.6.0-1ubuntu1.3) ...\n",
            "Selecting previously unselected package libleptonica-dev.\n",
            "Preparing to unpack .../libleptonica-dev_1.82.0-3build1_amd64.deb ...\n",
            "Unpacking libleptonica-dev (1.82.0-3build1) ...\n",
            "Selecting previously unselected package libtesseract-dev:amd64.\n",
            "Preparing to unpack .../libtesseract-dev_4.1.1-2.1build1_amd64.deb ...\n",
            "Unpacking libtesseract-dev:amd64 (4.1.1-2.1build1) ...\n",
            "Setting up libleptonica-dev (1.82.0-3build1) ...\n",
            "Setting up libarchive-dev:amd64 (3.6.0-1ubuntu1.3) ...\n",
            "Setting up libtesseract-dev:amd64 (4.1.1-2.1build1) ...\n",
            "Processing triggers for man-db (2.10.2-1) ...\n"
          ]
        }
      ]
    },
    {
      "cell_type": "code",
      "source": [
        "!which tesseract"
      ],
      "metadata": {
        "colab": {
          "base_uri": "https://localhost:8080/"
        },
        "id": "lFNP12d2_WBN",
        "outputId": "ed6171d6-7991-4f50-8621-f078d76f6778"
      },
      "execution_count": 35,
      "outputs": [
        {
          "output_type": "stream",
          "name": "stdout",
          "text": [
            "/usr/bin/tesseract\n"
          ]
        }
      ]
    },
    {
      "cell_type": "code",
      "source": [
        "import pytesseract\n",
        "\n",
        "import cv2\n",
        "import matplotlib.pyplot as plt\n",
        "from PIL import Image\n",
        "import os\n",
        "import numpy as np\n",
        "import keras_ocr\n",
        "import tensorflow as tf\n",
        "\n",
        "pytesseract.pytesseract.tesseract_cmd = r'/usr/bin/tesseract'"
      ],
      "metadata": {
        "id": "B9pgxWF93-90"
      },
      "execution_count": 36,
      "outputs": []
    },
    {
      "cell_type": "code",
      "source": [
        "!pip show pytesseract"
      ],
      "metadata": {
        "colab": {
          "base_uri": "https://localhost:8080/"
        },
        "id": "Q--tOBLD6pUH",
        "outputId": "de5e1964-ce32-4e35-ff2b-6e1d23fc3247"
      },
      "execution_count": 20,
      "outputs": [
        {
          "output_type": "stream",
          "name": "stdout",
          "text": [
            "Name: pytesseract\n",
            "Version: 0.3.13\n",
            "Summary: Python-tesseract is a python wrapper for Google's Tesseract-OCR\n",
            "Home-page: https://github.com/madmaze/pytesseract\n",
            "Author: Samuel Hoffstaetter\n",
            "Author-email: samuel@hoffstaetter.com\n",
            "License: Apache License 2.0\n",
            "Location: /usr/local/lib/python3.11/dist-packages\n",
            "Requires: packaging, Pillow\n",
            "Required-by: \n"
          ]
        }
      ]
    },
    {
      "cell_type": "code",
      "source": [
        "\n",
        "def crop_left_half(image_path):\n",
        "    after_path = 'cut_turned/'\n",
        "    image = cv2.imread(image_path)\n",
        "    height, width, _ = image.shape\n",
        "\n",
        "    width = image.shape[1]\n",
        "\n",
        "    fraction = 2 / 5\n",
        "    new_width = int(width * fraction)\n",
        "    left_half = image[:, :new_width]\n",
        "\n",
        "    cv2.imwrite(after_path + image_path.split('/')[1], left_half)\n",
        "\n",
        "def rotate_180(image_path):\n",
        "    after_path = 'rotated/'\n",
        "    image = Image.open(image_path)\n",
        "    image = image.rotate(180)\n",
        "    image.save(after_path + image_path.split('/')[1])\n",
        "    crop_left_half(after_path + image_path.split('/')[1])\n",
        "\n",
        "def preprocess(image_path):\n",
        "    img = cv2.imread(image_path, 0)\n",
        "    ret, imgf = cv2.threshold(img, 0, 255, cv2.THRESH_BINARY, cv2.THRESH_OTSU)\n",
        "\n",
        "    imgf = cv2.adaptiveThreshold(img, 255, cv2.ADAPTIVE_THRESH_GAUSSIAN_C, cv2.THRESH_BINARY, 11, 2)\n",
        "    cv2.imwrite('preprocessed/' + image_path.split('/')[1], imgf)\n",
        "\n",
        "\n",
        "def binarize(image_path):\n",
        "\n",
        "    image = cv2.imread(image_path)\n",
        "\n",
        "    # normalize image\n",
        "    image = cv2.normalize(image, None, alpha=0, beta=255, norm_type=cv2.NORM_MINMAX, dtype=cv2.CV_8U)\n",
        "\n",
        "    # noise removal\n",
        "    kernel = np.ones((3, 3), np.uint8)\n",
        "    opening = cv2.morphologyEx(image, cv2.MORPH_OPEN, kernel, iterations=2)\n",
        "    opening = cv2.fastNlMeansDenoisingColored(opening, None, 10, 10, 7, 15)\n",
        "\n",
        "    gray = cv2.cvtColor(opening, cv2.COLOR_BGR2GRAY)\n",
        "    gray = cv2.threshold(gray, 0, 255, cv2.THRESH_BINARY | cv2.THRESH_OTSU)[1]\n",
        "\n",
        "    # thinning, skeletonization\n",
        "    kernel = np.ones((3, 3), np.uint8) # 5, 5 -> thicker idk\n",
        "    erosion = cv2.erode(gray, kernel, iterations=1)\n",
        "    #dilation = cv2.dilate(erosion, kernel, iterations=1)\n",
        "    #show image\n",
        "    cv2.imwrite('preprocessed/' + image_path.split('/')[1], erosion)\n",
        "\n",
        "def extract_text(image_path):\n",
        "    image = cv2.imread(image_path)\n",
        "    text = pytesseract.image_to_string(image, lang='eng', config='--psm 4')\n",
        "    #image_to_data(im, lang='eng', config=psm)\n",
        "    return text\n",
        "\n",
        "def extract_text_keras(image_path): #KERAS BLOWS\n",
        "    pipeline = keras_ocr.pipeline.Pipeline()\n",
        "    images = [keras_ocr.tools.read(image_path)]\n",
        "    prediction_groups = pipeline.recognize(images)\n",
        "    text = ''\n",
        "    for predictions in prediction_groups:\n",
        "        for text in predictions:\n",
        "            text += text\n",
        "    return text\n"
      ],
      "metadata": {
        "id": "tsLpCTSK10bN"
      },
      "execution_count": 15,
      "outputs": []
    },
    {
      "cell_type": "code",
      "source": [
        "\n",
        "def post_correction(text):\n",
        "    sym_spell = SymSpell(max_dictionary_edit_distance=2, prefix_length=7)\n",
        "    dictionary_path = \"frequency_dictionary_en_82_765.txt\"\n",
        "\n",
        "    dictionary_path2 = \"newDict.txt\"\n",
        "    sym_spell.load_dictionary(dictionary_path, term_index=0, count_index=1, separator=\"$\")\n",
        "    #print(text)\n",
        "\n",
        "    sym_spell.load_dictionary(dictionary_path2, term_index=0, count_index=1, separator=\"$\")\n",
        "\n",
        "    # print first 10 words in dictionary\n",
        "\n",
        "\n",
        "    #suggestions = sym_spell.lookup_compound(text, max_edit_distance=2, transfer_casing=True, ignore_non_words=True)\n",
        "    suggestions = sym_spell.lookup(\n",
        "        text, Verbosity.CLOSEST, max_edit_distance=2, include_unknown=True\n",
        "    )\n",
        "\n",
        "    return suggestions"
      ],
      "metadata": {
        "id": "CTvpZWyb3SHF"
      },
      "execution_count": 45,
      "outputs": []
    },
    {
      "cell_type": "code",
      "source": [
        "# !which pytesseract\n",
        "\n",
        "\n",
        "# !pip list"
      ],
      "metadata": {
        "id": "zEoY0JZ0781S"
      },
      "execution_count": 38,
      "outputs": []
    },
    {
      "cell_type": "code",
      "source": [
        "\n",
        "    # for file in os.listdir('uncropped/'):\n",
        "    #     rotate_180(f'uncropped/{file}')\n",
        "\n",
        "    # for file in os.listdir('cut_turned/'):\n",
        "    #     binarize(f'cut_turned/{file}')\n",
        "\n",
        "    #count1 = 0\n",
        "    text1 = ''\n",
        "    for file in os.listdir('preprocessed/'):\n",
        "            text1 = extract_text(f'preprocessed/{file}')\n",
        "\n",
        "            corrections = post_correction(text1)\n",
        "            for suggestion in corrections:\n",
        "                print(suggestion.term)\n",
        "            count1 += 1\n",
        "\n",
        "\n",
        "    # text2 = ''\n",
        "    # count2 = 0\n",
        "    # for file in os.listdir('preprocessed/'):\n",
        "    #     while count2 < 1:\n",
        "    #         text2 = extract_text(f'preprocessed/{file}')\n",
        "    #         count2 += 1\n",
        "    #print(text1)\n",
        "    #print(text2)"
      ],
      "metadata": {
        "colab": {
          "base_uri": "https://localhost:8080/"
        },
        "id": "x6jNmFxy1_zq",
        "outputId": "517e6bcc-63c3-48c2-e712-02bdf2c06fb2"
      },
      "execution_count": 46,
      "outputs": [
        {
          "output_type": "stream",
          "name": "stdout",
          "text": [
            "Phoebis sehnac\n",
            "maycellina\n",
            "\n",
            "MGCL 1169103\n",
            "\n",
            "USA: Arizona\n",
            "Graham Co.\n",
            "Mt. Graham\n",
            "10,000 ft.\n",
            "3-VII-1972\n",
            "B. Weber\n",
            "\n",
            "Allyn Museum Acc.\n",
            "1981-24 «\n",
            "B. Weber\n",
            "\n",
            " \n",
            "\f\n",
            "Phoebis sennae\n",
            "\n",
            "maycellina\n",
            "\n",
            "ARIZ: Santa Cruz Ce.\n",
            "Sycamore Canyon\n",
            "2-IxX-77\n",
            "Teg. 8. O’ Hara\n",
            "\n",
            " \n",
            "\f\n",
            "Phoebis sehnae\n",
            "\n",
            "maycellina\n",
            "\n",
            "MGCL 1167602\n",
            "\n",
            "P. es. marcellina\n",
            "June 28, 1969\n",
            "Brownsville, Tex.\n",
            "Cameron Co.\n",
            "\n",
            "leg Heitzman\n",
            "\n",
            " \n",
            "\f\n",
            "Phoebis sennae\n",
            "\n",
            "maycellina\n",
            "\n",
            "Pei, Sullnue\n",
            "\n",
            "Bentsen-Hio Grande |:\n",
            "State Park\n",
            "Hidalgo Co., Tex.\n",
            "\n",
            " \n",
            "\f\n"
          ]
        }
      ]
    }
  ]
}